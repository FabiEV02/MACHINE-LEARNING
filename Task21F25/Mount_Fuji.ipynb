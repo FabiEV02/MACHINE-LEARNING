{
  "nbformat": 4,
  "nbformat_minor": 0,
  "metadata": {
    "colab": {
      "provenance": [],
      "authorship_tag": "ABX9TyOJ67Wufvks7Jk15wbxWEQH",
      "include_colab_link": true
    },
    "kernelspec": {
      "name": "python3",
      "display_name": "Python 3"
    },
    "language_info": {
      "name": "python"
    }
  },
  "cells": [
    {
      "cell_type": "markdown",
      "metadata": {
        "id": "view-in-github",
        "colab_type": "text"
      },
      "source": [
        "<a href=\"https://colab.research.google.com/github/FabiEV02/MACHINE-LEARNING/blob/main/Task21F25/Mount_Fuji.ipynb\" target=\"_parent\"><img src=\"https://colab.research.google.com/assets/colab-badge.svg\" alt=\"Open In Colab\"/></a>"
      ]
    },
    {
      "cell_type": "markdown",
      "source": [
        "##**Problem 1: How many times does the paper have to be folded to go over Mt. Fuji?**\n",
        "Create a program to calculate the minimum number of paper folds needed to make the thickness exceed \"the height of Mount Fuji 3776 m\"."
      ],
      "metadata": {
        "id": "2LV2v4De8Fpd"
      }
    },
    {
      "cell_type": "code",
      "execution_count": 5,
      "metadata": {
        "colab": {
          "base_uri": "https://localhost:8080/"
        },
        "id": "9Y9iPx-q7ksr",
        "outputId": "d7d2ea71-8282-49de-c4de-a2de5960c85a"
      },
      "outputs": [
        {
          "output_type": "stream",
          "name": "stdout",
          "text": [
            "The number of paper folds needed are: 26\n"
          ]
        }
      ],
      "source": [
        "i = 0\n",
        "height = 0\n",
        "while (height < 3776):\n",
        "  i = i + 1\n",
        "  height = 0.00008*2**i\n",
        "print(f\"The number of paper folds needed are: {i}\")"
      ]
    },
    {
      "cell_type": "markdown",
      "source": [
        "##**Problem 2: Function corresponding to arbitrary thickness**\n",
        "\n",
        "Implement a function that, given a height input, would output the minimum number of paper folds required to exceed it.\n",
        "Using this function, calculate how many times you would need to fold a piece of paper to reach the nearest non-sun star.\n",
        "The nearest non-sun star is Proxima Centauri, which is about $4.0175*10^{16}$ m away from Earth.\n"
      ],
      "metadata": {
        "id": "N6w2BZG2-CXZ"
      }
    },
    {
      "cell_type": "code",
      "source": [
        "def calculator(heigin, tickness):\n",
        "  height = 0\n",
        "  i = 0\n",
        "  while height < heigin:\n",
        "    i = i + 1\n",
        "    height = tickness*2**i\n",
        "  return i\n",
        "\n",
        "#Nearest non-solar star\n",
        "print(f\"To reach the height of the nearest non-solar star the paper must be folded {calculator(4.0175*10**16,0.00008)} times\")\n",
        "\n",
        "heigin = int(input(\"Enter the height: \"))\n",
        "tickness = float(input(\"Enter the thickness of the paper: \"))\n",
        "print(f\"To reach the height of {heigin} the paper must be folded {calculator(heigin,tickness)} times\")"
      ],
      "metadata": {
        "colab": {
          "base_uri": "https://localhost:8080/"
        },
        "id": "duDJ74cX-J2e",
        "outputId": "6300c61e-8095-4854-980c-185e0ee0daea"
      },
      "execution_count": 17,
      "outputs": [
        {
          "output_type": "stream",
          "name": "stdout",
          "text": [
            "To reach the height of the nearest non-solar star the paper must be folded 69 times\n",
            "Enter the height: 56456\n",
            "Enter the thickness of the paper: 0.00008\n",
            "To reach the height of 56456 the paper must be folded 30 times\n"
          ]
        }
      ]
    },
    {
      "cell_type": "markdown",
      "source": [
        "##**Problem 3: Required paper length**\n",
        "\n",
        "$$\n",
        "l = \\frac{\\pi \\, t_0}{6} \\, (2^n + 4) \\, (2^n - 1)\n",
        "$$\n",
        "\n",
        "\n",
        "Use this formula to implement a function that finds the length of paper needed to actually fold the paper and reach any thickness.\n",
        "\n",
        "Then use this to find out the length of paper needed to reach the Moon, Mt. Fuji, and the stars closest to the Sun."
      ],
      "metadata": {
        "id": "Hg_EaQrwWEiW"
      }
    },
    {
      "cell_type": "code",
      "source": [
        "import math\n",
        "def calculator(n, t0):\n",
        "  l = ((math.pi*t0)/6)*((2**n)+4)*((2**n)-1)\n",
        "  return l\n",
        "\n",
        "#Nearest non-solar star\n",
        "l1 = calculator(69,0.00008)\n",
        "print(f\"The length of the paper to reach the star closest to the sun must be: {l1:.5f} meters\")\n",
        "#Mount Fuji\n",
        "l2 = calculator(26,0.00008)\n",
        "print(f\"The length of the paper to reach the Monte Funji must be: {l2:.5f} meters\")\n",
        "#Moon\n",
        "l3 = calculator(43,0.00008)\n",
        "print(f\"The length of the paper to reach the Luna must be: {l3:.5f} meters\")\n",
        "\n",
        "n = int(input(\"Enter the number of folds of the paper: \"))\n",
        "t0 = float(input(\"Enter the thickness of the paper: \"))\n",
        "l4 = calculator(n,t0)\n",
        "print(f\"To be folded {n} times the length of the paper must be: {l4}\")"
      ],
      "metadata": {
        "colab": {
          "base_uri": "https://localhost:8080/"
        },
        "id": "xjaqo2CyEYMG",
        "outputId": "c630efe9-008b-4382-ffa1-b8e011edb89e"
      },
      "execution_count": 16,
      "outputs": [
        {
          "output_type": "stream",
          "name": "stdout",
          "text": [
            "The length of the paper to reach the star closest to the sun must be: 14595803601100347983589756318297096192.00000 meters\n",
            "The length of the paper to reach the Monte Funji must be: 188646348487.24017 meters\n",
            "The length of the paper to reach the Luna must be: 3240919444170781229056.00000 meters\n",
            "Enter the number of folds of the paper: 43\n",
            "Enter the thickness of the paper: 0.00008\n",
            "To be folded 43 times the length of the paper must be: 3.240919444170781e+21\n"
          ]
        }
      ]
    }
  ]
}